{
  "nbformat": 4,
  "nbformat_minor": 0,
  "metadata": {
    "colab": {
      "provenance": [],
      "authorship_tag": "ABX9TyNVLqN4R8WFxY15xO9QJq0R",
      "include_colab_link": true
    },
    "kernelspec": {
      "name": "python3",
      "display_name": "Python 3"
    },
    "language_info": {
      "name": "python"
    }
  },
  "cells": [
    {
      "cell_type": "markdown",
      "metadata": {
        "id": "view-in-github",
        "colab_type": "text"
      },
      "source": [
        "<a href=\"https://colab.research.google.com/github/mtomicg/Colab-Notebook/blob/practicas.colab/Pr%C3%A1cticas.ipynb\" target=\"_parent\"><img src=\"https://colab.research.google.com/assets/colab-badge.svg\" alt=\"Open In Colab\"/></a>"
      ]
    },
    {
      "cell_type": "code",
      "execution_count": null,
      "metadata": {
        "colab": {
          "base_uri": "https://localhost:8080/"
        },
        "id": "VVCHJJCDZSCm",
        "outputId": "b5b711d5-2506-4e81-9a5e-955c8cf037bf"
      },
      "outputs": [
        {
          "output_type": "stream",
          "name": "stdout",
          "text": [
            "Hola Mundo\n"
          ]
        }
      ],
      "source": [
        "saludomundo = \"Hola Mundo\"\n",
        "print(saludomundo)"
      ]
    },
    {
      "cell_type": "markdown",
      "source": [
        "###Parte 1"
      ],
      "metadata": {
        "id": "x9uSWET1Iwtw"
      }
    },
    {
      "cell_type": "markdown",
      "source": [
        "#Ejercicio 1:\n",
        "* Pida al usuario dos números.\n",
        "\n",
        "* Sume esos números.\n",
        "\n",
        "* Imprima el resultado.\n"
      ],
      "metadata": {
        "id": "lT6LhY8TTVIA"
      }
    },
    {
      "cell_type": "code",
      "source": [
        "Numero1 = int(input(\"Hola, dame un número del 1 al 10 \"))\n",
        "Numero2 = int(input(\"Ahora dame un número del 11 al 20 \"))\n",
        "if 10>=Numero1>=1 and 20>=Numero2>=11:\n",
        "  Resultado = Numero1 + Numero2\n",
        "  print(Resultado)\n",
        "else:\n",
        "  print(\"Los números son incorrectos\")\n",
        "\n"
      ],
      "metadata": {
        "colab": {
          "base_uri": "https://localhost:8080/"
        },
        "id": "VevikY1HT_5Z",
        "outputId": "14da9e38-9f6f-492e-c2a2-7adee2a0e2fc"
      },
      "execution_count": null,
      "outputs": [
        {
          "output_type": "stream",
          "name": "stdout",
          "text": [
            "Hola, dame un número del 1 al 10 3\n",
            "Ahora dame un número del 11 al 20 12\n",
            "15\n"
          ]
        }
      ]
    },
    {
      "cell_type": "markdown",
      "source": [
        "###Ejercicio 2\n",
        "* Pida un número al usuario.\n",
        "\n",
        "* Indique si el número es positivo, negativo o cero."
      ],
      "metadata": {
        "id": "1AE_-brAoo6W"
      }
    },
    {
      "cell_type": "code",
      "source": [
        "numero = int(input(\"Indique un número cualquiera \"))\n",
        "if numero < 0:\n",
        "  (print(\"El número es negativo\"))\n",
        "elif numero > 0:\n",
        "  print(\"El numero es positivo\")\n",
        "else:\n",
        "  print(\"El número es 0\")"
      ],
      "metadata": {
        "colab": {
          "base_uri": "https://localhost:8080/"
        },
        "id": "kq-O9Yncotzs",
        "outputId": "78b9b8f6-3edb-4fc5-cc33-619331afdfec"
      },
      "execution_count": null,
      "outputs": [
        {
          "output_type": "stream",
          "name": "stdout",
          "text": [
            "Indique un número cualquiera 0\n",
            "El número es 0\n"
          ]
        }
      ]
    },
    {
      "cell_type": "markdown",
      "source": [
        "###Ejercicio 3\n",
        "* Defina una lista con varios números.\n",
        "\n",
        "* Recorra la lista con un bucle for.\n",
        "\n",
        "* Imprima cada número multiplicado por 2."
      ],
      "metadata": {
        "id": "8L9xodqdwids"
      }
    },
    {
      "cell_type": "code",
      "source": [
        "lista1 = list(range(1,8))  ##Lista en un rango de\n",
        "print(lista1)\n",
        "for num in lista1:   ##Para los números en la lista\n",
        "  print(num * 2)"
      ],
      "metadata": {
        "colab": {
          "base_uri": "https://localhost:8080/"
        },
        "id": "9HmIZBAoF_BQ",
        "outputId": "622811dd-9ca7-4437-8181-22e1f200dd4c"
      },
      "execution_count": null,
      "outputs": [
        {
          "output_type": "stream",
          "name": "stdout",
          "text": [
            "[1, 2, 3, 4, 5, 6, 7]\n",
            "2\n",
            "4\n",
            "6\n",
            "8\n",
            "10\n",
            "12\n",
            "14\n"
          ]
        }
      ]
    },
    {
      "cell_type": "markdown",
      "source": [
        "###Ejercicio 4\n",
        "* Reciba una lista de números.\n",
        "\n",
        "* Devuelva la suma de todos los números."
      ],
      "metadata": {
        "id": "0IULfKOGIZ4H"
      }
    },
    {
      "cell_type": "code",
      "source": [
        "lista2 = list(range(-2,2))\n",
        "for num in lista2:\n",
        "  print(num + num)"
      ],
      "metadata": {
        "colab": {
          "base_uri": "https://localhost:8080/"
        },
        "id": "k8szwZBYJLNk",
        "outputId": "6cdaaca6-8989-41c0-d071-4bedb8f1a829"
      },
      "execution_count": null,
      "outputs": [
        {
          "output_type": "stream",
          "name": "stdout",
          "text": [
            "-4\n",
            "-2\n",
            "0\n",
            "2\n"
          ]
        }
      ]
    }
  ]
}